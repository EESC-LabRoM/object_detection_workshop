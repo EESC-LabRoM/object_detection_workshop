{
 "cells": [
  {
   "cell_type": "code",
   "execution_count": 1,
   "metadata": {},
   "outputs": [
    {
     "name": "stderr",
     "output_type": "stream",
     "text": [
      "/home/thales/miniconda3/envs/object_detection_amb/lib/python3.10/site-packages/oauth2client/_helpers.py:255: UserWarning: Cannot access credenciais: No such file or directory\n",
      "  warnings.warn(_MISSING_FILE_MESSAGE.format(filename))\n"
     ]
    },
    {
     "ename": "InvalidConfigError",
     "evalue": "Invalid client secrets file ('Error opening file', 'client_secrets.json', 'No such file or directory', 2)",
     "output_type": "error",
     "traceback": [
      "\u001b[0;31m---------------------------------------------------------------------------\u001b[0m",
      "\u001b[0;31mFileNotFoundError\u001b[0m                         Traceback (most recent call last)",
      "File \u001b[0;32m~/miniconda3/envs/object_detection_amb/lib/python3.10/site-packages/oauth2client/clientsecrets.py:121\u001b[0m, in \u001b[0;36m_loadfile\u001b[0;34m(filename)\u001b[0m\n\u001b[1;32m    120\u001b[0m \u001b[38;5;28;01mtry\u001b[39;00m:\n\u001b[0;32m--> 121\u001b[0m     \u001b[38;5;28;01mwith\u001b[39;00m \u001b[38;5;28;43mopen\u001b[39;49m\u001b[43m(\u001b[49m\u001b[43mfilename\u001b[49m\u001b[43m,\u001b[49m\u001b[43m \u001b[49m\u001b[38;5;124;43m'\u001b[39;49m\u001b[38;5;124;43mr\u001b[39;49m\u001b[38;5;124;43m'\u001b[39;49m\u001b[43m)\u001b[49m \u001b[38;5;28;01mas\u001b[39;00m fp:\n\u001b[1;32m    122\u001b[0m         obj \u001b[38;5;241m=\u001b[39m json\u001b[38;5;241m.\u001b[39mload(fp)\n",
      "\u001b[0;31mFileNotFoundError\u001b[0m: [Errno 2] No such file or directory: 'client_secrets.json'",
      "\nDuring handling of the above exception, another exception occurred:\n",
      "\u001b[0;31mInvalidClientSecretsError\u001b[0m                 Traceback (most recent call last)",
      "File \u001b[0;32m~/miniconda3/envs/object_detection_amb/lib/python3.10/site-packages/pydrive/auth.py:386\u001b[0m, in \u001b[0;36mGoogleAuth.LoadClientConfigFile\u001b[0;34m(self, client_config_file)\u001b[0m\n\u001b[1;32m    385\u001b[0m \u001b[38;5;28;01mtry\u001b[39;00m:\n\u001b[0;32m--> 386\u001b[0m   client_type, client_info \u001b[38;5;241m=\u001b[39m \u001b[43mclientsecrets\u001b[49m\u001b[38;5;241;43m.\u001b[39;49m\u001b[43mloadfile\u001b[49m\u001b[43m(\u001b[49m\u001b[43mclient_config_file\u001b[49m\u001b[43m)\u001b[49m\n\u001b[1;32m    387\u001b[0m \u001b[38;5;28;01mexcept\u001b[39;00m clientsecrets\u001b[38;5;241m.\u001b[39mInvalidClientSecretsError \u001b[38;5;28;01mas\u001b[39;00m error:\n",
      "File \u001b[0;32m~/miniconda3/envs/object_detection_amb/lib/python3.10/site-packages/oauth2client/clientsecrets.py:165\u001b[0m, in \u001b[0;36mloadfile\u001b[0;34m(filename, cache)\u001b[0m\n\u001b[1;32m    164\u001b[0m \u001b[38;5;28;01mif\u001b[39;00m \u001b[38;5;129;01mnot\u001b[39;00m cache:\n\u001b[0;32m--> 165\u001b[0m     \u001b[38;5;28;01mreturn\u001b[39;00m \u001b[43m_loadfile\u001b[49m\u001b[43m(\u001b[49m\u001b[43mfilename\u001b[49m\u001b[43m)\u001b[49m\n\u001b[1;32m    167\u001b[0m obj \u001b[38;5;241m=\u001b[39m cache\u001b[38;5;241m.\u001b[39mget(filename, namespace\u001b[38;5;241m=\u001b[39m_SECRET_NAMESPACE)\n",
      "File \u001b[0;32m~/miniconda3/envs/object_detection_amb/lib/python3.10/site-packages/oauth2client/clientsecrets.py:124\u001b[0m, in \u001b[0;36m_loadfile\u001b[0;34m(filename)\u001b[0m\n\u001b[1;32m    123\u001b[0m \u001b[38;5;28;01mexcept\u001b[39;00m \u001b[38;5;167;01mIOError\u001b[39;00m \u001b[38;5;28;01mas\u001b[39;00m exc:\n\u001b[0;32m--> 124\u001b[0m     \u001b[38;5;28;01mraise\u001b[39;00m InvalidClientSecretsError(\u001b[38;5;124m'\u001b[39m\u001b[38;5;124mError opening file\u001b[39m\u001b[38;5;124m'\u001b[39m, exc\u001b[38;5;241m.\u001b[39mfilename,\n\u001b[1;32m    125\u001b[0m                                     exc\u001b[38;5;241m.\u001b[39mstrerror, exc\u001b[38;5;241m.\u001b[39merrno)\n\u001b[1;32m    126\u001b[0m \u001b[38;5;28;01mreturn\u001b[39;00m _validate_clientsecrets(obj)\n",
      "\u001b[0;31mInvalidClientSecretsError\u001b[0m: ('Error opening file', 'client_secrets.json', 'No such file or directory', 2)",
      "\nDuring handling of the above exception, another exception occurred:\n",
      "\u001b[0;31mInvalidConfigError\u001b[0m                        Traceback (most recent call last)",
      "Cell \u001b[0;32mIn[1], line 11\u001b[0m\n\u001b[1;32m      8\u001b[0m gauth\u001b[38;5;241m.\u001b[39mLoadCredentialsFile(\u001b[38;5;124m\"\u001b[39m\u001b[38;5;124mcredenciais\u001b[39m\u001b[38;5;124m\"\u001b[39m)\n\u001b[1;32m      9\u001b[0m \u001b[38;5;28;01mif\u001b[39;00m gauth\u001b[38;5;241m.\u001b[39mcredentials \u001b[38;5;129;01mis\u001b[39;00m \u001b[38;5;28;01mNone\u001b[39;00m:\n\u001b[1;32m     10\u001b[0m     \u001b[38;5;66;03m# Authenticate if they're not there\u001b[39;00m\n\u001b[0;32m---> 11\u001b[0m     \u001b[43mgauth\u001b[49m\u001b[38;5;241;43m.\u001b[39;49m\u001b[43mLocalWebserverAuth\u001b[49m\u001b[43m(\u001b[49m\u001b[43m)\u001b[49m\n\u001b[1;32m     12\u001b[0m \u001b[38;5;28;01melif\u001b[39;00m gauth\u001b[38;5;241m.\u001b[39maccess_token_expired:\n\u001b[1;32m     13\u001b[0m     \u001b[38;5;66;03m# Refresh them if expired\u001b[39;00m\n\u001b[1;32m     14\u001b[0m     gauth\u001b[38;5;241m.\u001b[39mRefresh()\n",
      "File \u001b[0;32m~/miniconda3/envs/object_detection_amb/lib/python3.10/site-packages/pydrive/auth.py:113\u001b[0m, in \u001b[0;36mCheckAuth.<locals>._decorated\u001b[0;34m(self, *args, **kwargs)\u001b[0m\n\u001b[1;32m    111\u001b[0m   \u001b[38;5;28mself\u001b[39m\u001b[38;5;241m.\u001b[39mLoadCredentials()\n\u001b[1;32m    112\u001b[0m \u001b[38;5;28;01mif\u001b[39;00m \u001b[38;5;28mself\u001b[39m\u001b[38;5;241m.\u001b[39mflow \u001b[38;5;129;01mis\u001b[39;00m \u001b[38;5;28;01mNone\u001b[39;00m:\n\u001b[0;32m--> 113\u001b[0m   \u001b[38;5;28;43mself\u001b[39;49m\u001b[38;5;241;43m.\u001b[39;49m\u001b[43mGetFlow\u001b[49m\u001b[43m(\u001b[49m\u001b[43m)\u001b[49m\n\u001b[1;32m    114\u001b[0m \u001b[38;5;28;01mif\u001b[39;00m \u001b[38;5;28mself\u001b[39m\u001b[38;5;241m.\u001b[39mcredentials \u001b[38;5;129;01mis\u001b[39;00m \u001b[38;5;28;01mNone\u001b[39;00m:\n\u001b[1;32m    115\u001b[0m   code \u001b[38;5;241m=\u001b[39m decoratee(\u001b[38;5;28mself\u001b[39m, \u001b[38;5;241m*\u001b[39margs, \u001b[38;5;241m*\u001b[39m\u001b[38;5;241m*\u001b[39mkwargs)\n",
      "File \u001b[0;32m~/miniconda3/envs/object_detection_amb/lib/python3.10/site-packages/pydrive/auth.py:443\u001b[0m, in \u001b[0;36mGoogleAuth.GetFlow\u001b[0;34m(self)\u001b[0m\n\u001b[1;32m    437\u001b[0m \u001b[38;5;250m\u001b[39m\u001b[38;5;124;03m\"\"\"Gets Flow object from client configuration.\u001b[39;00m\n\u001b[1;32m    438\u001b[0m \n\u001b[1;32m    439\u001b[0m \u001b[38;5;124;03m:raises: InvalidConfigError\u001b[39;00m\n\u001b[1;32m    440\u001b[0m \u001b[38;5;124;03m\"\"\"\u001b[39;00m\n\u001b[1;32m    441\u001b[0m \u001b[38;5;28;01mif\u001b[39;00m \u001b[38;5;129;01mnot\u001b[39;00m \u001b[38;5;28mall\u001b[39m(config \u001b[38;5;129;01min\u001b[39;00m \u001b[38;5;28mself\u001b[39m\u001b[38;5;241m.\u001b[39mclient_config \\\n\u001b[1;32m    442\u001b[0m            \u001b[38;5;28;01mfor\u001b[39;00m config \u001b[38;5;129;01min\u001b[39;00m \u001b[38;5;28mself\u001b[39m\u001b[38;5;241m.\u001b[39mCLIENT_CONFIGS_LIST):\n\u001b[0;32m--> 443\u001b[0m   \u001b[38;5;28;43mself\u001b[39;49m\u001b[38;5;241;43m.\u001b[39;49m\u001b[43mLoadClientConfig\u001b[49m\u001b[43m(\u001b[49m\u001b[43m)\u001b[49m\n\u001b[1;32m    444\u001b[0m constructor_kwargs \u001b[38;5;241m=\u001b[39m {\n\u001b[1;32m    445\u001b[0m     \u001b[38;5;124m'\u001b[39m\u001b[38;5;124mredirect_uri\u001b[39m\u001b[38;5;124m'\u001b[39m: \u001b[38;5;28mself\u001b[39m\u001b[38;5;241m.\u001b[39mclient_config[\u001b[38;5;124m'\u001b[39m\u001b[38;5;124mredirect_uri\u001b[39m\u001b[38;5;124m'\u001b[39m],\n\u001b[1;32m    446\u001b[0m     \u001b[38;5;124m'\u001b[39m\u001b[38;5;124mauth_uri\u001b[39m\u001b[38;5;124m'\u001b[39m: \u001b[38;5;28mself\u001b[39m\u001b[38;5;241m.\u001b[39mclient_config[\u001b[38;5;124m'\u001b[39m\u001b[38;5;124mauth_uri\u001b[39m\u001b[38;5;124m'\u001b[39m],\n\u001b[1;32m    447\u001b[0m     \u001b[38;5;124m'\u001b[39m\u001b[38;5;124mtoken_uri\u001b[39m\u001b[38;5;124m'\u001b[39m: \u001b[38;5;28mself\u001b[39m\u001b[38;5;241m.\u001b[39mclient_config[\u001b[38;5;124m'\u001b[39m\u001b[38;5;124mtoken_uri\u001b[39m\u001b[38;5;124m'\u001b[39m],\n\u001b[1;32m    448\u001b[0m }\n\u001b[1;32m    449\u001b[0m \u001b[38;5;28;01mif\u001b[39;00m \u001b[38;5;28mself\u001b[39m\u001b[38;5;241m.\u001b[39mclient_config[\u001b[38;5;124m'\u001b[39m\u001b[38;5;124mrevoke_uri\u001b[39m\u001b[38;5;124m'\u001b[39m] \u001b[38;5;129;01mis\u001b[39;00m \u001b[38;5;129;01mnot\u001b[39;00m \u001b[38;5;28;01mNone\u001b[39;00m:\n",
      "File \u001b[0;32m~/miniconda3/envs/object_detection_amb/lib/python3.10/site-packages/pydrive/auth.py:366\u001b[0m, in \u001b[0;36mGoogleAuth.LoadClientConfig\u001b[0;34m(self, backend)\u001b[0m\n\u001b[1;32m    364\u001b[0m     \u001b[38;5;28;01mraise\u001b[39;00m InvalidConfigError(\u001b[38;5;124m'\u001b[39m\u001b[38;5;124mPlease specify client config backend\u001b[39m\u001b[38;5;124m'\u001b[39m)\n\u001b[1;32m    365\u001b[0m \u001b[38;5;28;01mif\u001b[39;00m backend \u001b[38;5;241m==\u001b[39m \u001b[38;5;124m'\u001b[39m\u001b[38;5;124mfile\u001b[39m\u001b[38;5;124m'\u001b[39m:\n\u001b[0;32m--> 366\u001b[0m   \u001b[38;5;28;43mself\u001b[39;49m\u001b[38;5;241;43m.\u001b[39;49m\u001b[43mLoadClientConfigFile\u001b[49m\u001b[43m(\u001b[49m\u001b[43m)\u001b[49m\n\u001b[1;32m    367\u001b[0m \u001b[38;5;28;01melif\u001b[39;00m backend \u001b[38;5;241m==\u001b[39m \u001b[38;5;124m'\u001b[39m\u001b[38;5;124msettings\u001b[39m\u001b[38;5;124m'\u001b[39m:\n\u001b[1;32m    368\u001b[0m   \u001b[38;5;28mself\u001b[39m\u001b[38;5;241m.\u001b[39mLoadClientConfigSettings()\n",
      "File \u001b[0;32m~/miniconda3/envs/object_detection_amb/lib/python3.10/site-packages/pydrive/auth.py:388\u001b[0m, in \u001b[0;36mGoogleAuth.LoadClientConfigFile\u001b[0;34m(self, client_config_file)\u001b[0m\n\u001b[1;32m    386\u001b[0m   client_type, client_info \u001b[38;5;241m=\u001b[39m clientsecrets\u001b[38;5;241m.\u001b[39mloadfile(client_config_file)\n\u001b[1;32m    387\u001b[0m \u001b[38;5;28;01mexcept\u001b[39;00m clientsecrets\u001b[38;5;241m.\u001b[39mInvalidClientSecretsError \u001b[38;5;28;01mas\u001b[39;00m error:\n\u001b[0;32m--> 388\u001b[0m   \u001b[38;5;28;01mraise\u001b[39;00m InvalidConfigError(\u001b[38;5;124m'\u001b[39m\u001b[38;5;124mInvalid client secrets file \u001b[39m\u001b[38;5;132;01m%s\u001b[39;00m\u001b[38;5;124m'\u001b[39m \u001b[38;5;241m%\u001b[39m error)\n\u001b[1;32m    389\u001b[0m \u001b[38;5;28;01mif\u001b[39;00m \u001b[38;5;129;01mnot\u001b[39;00m client_type \u001b[38;5;129;01min\u001b[39;00m (clientsecrets\u001b[38;5;241m.\u001b[39mTYPE_WEB,\n\u001b[1;32m    390\u001b[0m                        clientsecrets\u001b[38;5;241m.\u001b[39mTYPE_INSTALLED):\n\u001b[1;32m    391\u001b[0m   \u001b[38;5;28;01mraise\u001b[39;00m InvalidConfigError(\u001b[38;5;124m'\u001b[39m\u001b[38;5;124mUnknown client_type of client config file\u001b[39m\u001b[38;5;124m'\u001b[39m)\n",
      "\u001b[0;31mInvalidConfigError\u001b[0m: Invalid client secrets file ('Error opening file', 'client_secrets.json', 'No such file or directory', 2)"
     ]
    }
   ],
   "source": [
    "from pydrive.auth import GoogleAuth\n",
    "from pydrive.drive import GoogleDrive\n",
    "import os\n",
    "\n",
    "# Authenticate and create the PyDrive client\n",
    "gauth = GoogleAuth()\n",
    "# Try to load saved client credentials\n",
    "gauth.LoadCredentialsFile(\"credenciais\")\n",
    "if gauth.credentials is None:\n",
    "    # Authenticate if they're not there\n",
    "    gauth.LocalWebserverAuth()\n",
    "elif gauth.access_token_expired:\n",
    "    # Refresh them if expired\n",
    "    gauth.Refresh()\n",
    "else:\n",
    "    # Initialize the saved creds\n",
    "    gauth.Authorize()\n",
    "# Save the current credentials to a file\n",
    "gauth.SaveCredentialsFile(\"credenciais\")\n",
    "\n",
    "drive = GoogleDrive(gauth)\n",
    "\n",
    "def download_folder(folder_id, destination):\n",
    "    \"\"\"Downloads a folder from Google Drive.\"\"\"\n",
    "    # List the files in the folder\n",
    "    file_list = drive.ListFile({'q': f\"'{folder_id}' in parents and trashed=false\"}).GetList()\n",
    "\n",
    "    for file in file_list:\n",
    "        file_path = os.path.join(destination, file['title'])\n",
    "        if file['mimeType'] == 'application/vnd.google-apps.folder':\n",
    "            # If the file is a folder, create the folder and download its contents\n",
    "            os.makedirs(file_path, exist_ok=True)\n",
    "            download_folder(file['id'], file_path)\n",
    "        else:\n",
    "            # If the file is not a folder, download the file\n",
    "            print(f'Downloading {file[\"title\"]} to {file_path}')\n",
    "            file.GetContentFile(file_path)\n",
    "\n",
    "# Replace 'your_folder_id' with the actual ID of the folder you want to download\n",
    "# and 'your_destination_directory' with the path to the directory where you want to save the folder\n",
    "folder_id = 'https://drive.google.com/drive/folders/1zUIphpnM9JvzkhCJYgjFE5hVZhL5BLSh'\n",
    "destination_directory = 'Dados'\n",
    "\n",
    "# Create the destination directory if it doesn't exist\n",
    "os.makedirs(destination_directory, exist_ok=True)\n",
    "\n",
    "# Start the download process\n",
    "download_folder(folder_id, destination_directory)\n",
    "\n",
    "print('Download completed.')\n"
   ]
  }
 ],
 "metadata": {
  "kernelspec": {
   "display_name": "object_detection_amb",
   "language": "python",
   "name": "python3"
  },
  "language_info": {
   "codemirror_mode": {
    "name": "ipython",
    "version": 3
   },
   "file_extension": ".py",
   "mimetype": "text/x-python",
   "name": "python",
   "nbconvert_exporter": "python",
   "pygments_lexer": "ipython3",
   "version": "3.10.14"
  }
 },
 "nbformat": 4,
 "nbformat_minor": 2
}
