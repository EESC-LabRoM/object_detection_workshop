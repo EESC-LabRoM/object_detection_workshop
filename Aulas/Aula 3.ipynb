{
  "cells": [
    {
      "cell_type": "markdown",
      "metadata": {},
      "source": [
        "# Estruturação de um Pipeline de Treinamento YOLOv8 usando o Framework Ultralytics"
      ]
    },
    {
      "cell_type": "markdown",
      "metadata": {},
      "source": [
        "Neste notebook, vamos aprender como estruturar um pipeline de treinamento para o modelo YOLOv8 usando o framework Ultralytics. Vamos configurar diversos hiperparâmetros para otimizar o treinamento e garantir que o modelo atinja uma boa performance."
      ]
    },
    {
      "cell_type": "markdown",
      "metadata": {},
      "source": [
        "## Importação das Bibliotecas Necessárias"
      ]
    },
    {
      "cell_type": "code",
      "execution_count": null,
      "metadata": {},
      "outputs": [],
      "source": [
        "# Importando a biblioteca ultralytics\n",
        "from ultralytics import YOLO"
      ]
    },
    {
      "cell_type": "markdown",
      "metadata": {},
      "source": [
        "## Definição dos Hiperparâmetros de Treinamento"
      ]
    },
    {
      "cell_type": "markdown",
      "metadata": {},
      "source": [
        "Vamos definir os hiperparâmetros que serão usados durante o treinamento do modelo YOLOv8. Cada hiperparâmetro será explicado em detalhes abaixo."
      ]
    },
    {
      "cell_type": "code",
      "execution_count": null,
      "metadata": {},
      "outputs": [],
      "source": [
        "# Definindo os hiperparâmetros de treinamento\n",
        "hyperparameters = {\n",
        "    'epochs': 50,          # Número de épocas de treinamento\n",
        "    'batch': 16,           # Tamanho do lote\n",
        "    'optimizer': 'SGD',    # Otimizador\n",
        "    'warmup_epochs': 3.0,  # Número de épocas de aquecimento\n",
        "    'weight_decay': 0.0005,# Taxa de decaimento de peso\n",
        "    'dropout': 0.1,        # Taxa de dropout\n",
        "    'lr0': 0.01,           # Taxa de aprendizado inicial\n",
        "    'lrf': 0.01,           # Taxa de aprendizado final\n",
        "    'workers': 4,          # Número de trabalhadores para carregamento de dados\n",
        "    'momentum': 0.937,     # Momento para o otimizador\n",
        "    'cache': True,         # Cache dos dados para acelerar o treinamento\n",
        "    'device': '0',         # Dispositivo para treinamento (CPU ou GPU)\n",
        "}"
      ]
    },
    {
      "cell_type": "markdown",
      "metadata": {},
      "source": [
        "### Parâmetros de Hardware"
      ]
    },
    {
      "cell_type": "markdown",
      "metadata": {},
      "source": [
        "- `device`: O dispositivo usado para o treinamento. Pode ser `cpu` ou `0`, `1`, etc., para GPUs específicas."
      ]
    },
    {
      "cell_type": "markdown",
      "metadata": {},
      "source": [
        "- `workers`: Número de processos paralelos para carregar os dados. Um valor maior pode acelerar o carregamento dos dados, mas requer mais memória RAM."
      ]
    },
    {
      "cell_type": "markdown",
      "metadata": {},
      "source": [
        "- `cache`: Indica se os dados de treinamento devem ser armazenados em cache para acelerar o processo de treinamento. Pode ser útil quando há acesso rápido ao armazenamento."
      ]
    },
    {
      "cell_type": "markdown",
      "metadata": {},
      "source": [
        "### Parâmetros de Treinamento"
      ]
    },
    {
      "cell_type": "markdown",
      "metadata": {},
      "source": [
        "- `epochs`: Número total de épocas (passagens completas pelo conjunto de dados de treinamento)."
      ]
    },
    {
      "cell_type": "markdown",
      "metadata": {},
      "source": [
        "- `batch`: Tamanho do lote de dados processados em cada passo de treinamento. Tamanhos maiores de lote podem melhorar a precisão, mas requerem mais memória."
      ]
    },
    {
      "cell_type": "markdown",
      "metadata": {},
      "source": [
        "- `optimizer`: O algoritmo de otimização utilizado. Exemplos incluem `SGD` (Gradiente Descendente Estocástico) e `Adam`."
      ]
    },
    {
      "cell_type": "markdown",
      "metadata": {},
      "source": [
        "- `warmup_epochs`: Número de épocas iniciais durante as quais a taxa de aprendizado aumenta linearmente do valor inicial até o valor especificado."
      ]
    },
    {
      "cell_type": "markdown",
      "metadata": {},
      "source": [
        "- `weight_decay`: Taxa de decaimento de peso usada para regularização do modelo, ajudando a prevenir overfitting."
      ]
    },
    {
      "cell_type": "markdown",
      "metadata": {},
      "source": [
        "- `dropout`: Taxa de dropout aplicada durante o treinamento para evitar overfitting, desligando aleatoriamente neurônios em cada camada."
      ]
    },
    {
      "cell_type": "markdown",
      "metadata": {},
      "source": [
        "- `lr0`: Taxa de aprendizado inicial, controlando o tamanho dos passos dados na direção do gradiente durante o treinamento."
      ]
    },
    {
      "cell_type": "markdown",
      "metadata": {},
      "source": [
        "- `lrf`: Fator de redução da taxa de aprendizado ao longo do tempo, permitindo que o modelo refine os pesos em etapas posteriores do treinamento."
      ]
    },
    {
      "cell_type": "markdown",
      "metadata": {},
      "source": [
        "- `momentum`: Hiperparâmetro usado por alguns otimizadores para acelerar o treinamento e convergir mais rapidamente."
      ]
    },
    {
      "cell_type": "markdown",
      "metadata": {},
      "source": [
        "## Configuração e Início do Treinamento"
      ]
    },
    {
      "cell_type": "markdown",
      "metadata": {},
      "source": [
        "Agora que definimos nossos hiperparâmetros, vamos configurar e iniciar o treinamento do modelo YOLOv8."
      ]
    },
    {
      "cell_type": "code",
      "execution_count": null,
      "metadata": {},
      "outputs": [],
      "source": [
        "model = YOLO('yolov8n.pt')\n",
        "model.train(data='data.yaml', **hyperparameters)"
      ]
    },
    {
      "cell_type": "markdown",
      "metadata": {},
      "source": [
        "- `YOLO('yolov8n.pt')`: Carrega o modelo YOLOv8 pré-treinado com pesos iniciais.\n",
        "- `model.train(data='coco128.yaml', **hyperparameters)`: Inicia o treinamento do modelo usando o conjunto de dados especificado (`coco128.yaml`) e os hiperparâmetros definidos anteriormente."
      ]
    },
    {
      "cell_type": "markdown",
      "metadata": {},
      "source": [
        "Para mais informações sobre os hiperparâmetros e outras opções de treinamento [documentação oficial do Ultralytics](https://docs.ultralytics.com/modes/train/#introduction)."
      ]
    },
    {
      "cell_type": "markdown",
      "metadata": {},
      "source": [
        "## Validação do Modelo\n",
        "\n",
        "Depois de treinar o modelo, é importante validar sua performance em um conjunto de dados de validação para garantir que ele generaliza bem para novos dados.\n"
      ]
    },
    {
      "cell_type": "code",
      "execution_count": null,
      "metadata": {},
      "outputs": [],
      "source": [
        "metrics = model.val(data='coco128.yaml')\n",
        "print(metrics)"
      ]
    },
    {
      "cell_type": "markdown",
      "metadata": {},
      "source": [
        "- `model.val(data='coco128.yaml')`: Avalia o modelo treinado usando o conjunto de dados de validação especificado (`coco128.yaml`). Esta função calcula métricas de desempenho, como precisão, recall e mAP.\n",
        "- `print(metrics)`: Exibe os resultados das métricas de validação para análise.\n"
      ]
    },
    {
      "cell_type": "markdown",
      "metadata": {},
      "source": [
        "## Predição com o Modelo\n",
        "\n",
        "Uma vez que o modelo está treinado e validado, podemos usá-lo para fazer predições em novos dados.\n"
      ]
    },
    {
      "cell_type": "code",
      "execution_count": null,
      "metadata": {},
      "outputs": [],
      "source": [
        "results = model.predict(source='path/to/your/image_or_video')\n",
        "results.show()"
      ]
    },
    {
      "cell_type": "markdown",
      "metadata": {},
      "source": [
        "- `model.predict(source='path/to/your/image_or_video')`: Usa o modelo treinado para fazer predições em uma nova imagem ou vídeo especificado pelo caminho (`source`). O resultado da predição inclui as caixas delimitadoras, classes e pontuações de confiança.\n",
        "- `results.show()`: Exibe os resultados da predição, mostrando as detecções feitas pelo modelo na imagem ou vídeo fornecido.\n"
      ]
    },
    {
      "cell_type": "markdown",
      "metadata": {},
      "source": []
    }
  ],
  "metadata": {
    "kernelspec": {
      "display_name": "Python 3",
      "language": "python",
      "name": "python3"
    },
    "language_info": {
      "name": "python",
      "version": "3.8.5"
    }
  },
  "nbformat": 4,
  "nbformat_minor": 4
}
